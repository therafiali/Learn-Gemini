{
 "cells": [
  {
   "cell_type": "markdown",
   "metadata": {},
   "source": [
    "# Google Generative AI Package\n",
    "\n",
    "This package provides access to generative AI capabilities. Follow these steps to get started:\n",
    "\n",
    "1. Install the package via pip:"
   ]
  },
  {
   "cell_type": "markdown",
   "metadata": {},
   "source": [
    "`pip install google-generativeai`"
   ]
  },
  {
   "cell_type": "markdown",
   "metadata": {},
   "source": [
    "\n",
    "2. Configure the API key:\n",
    "Replace `\"YOUR_API_KEY\"` with your actual API key.\n",
    "```python\n",
    "import google.generativeai as genai\n",
    "genai.configure(api_key=\"YOUR_API_KEY\")"
   ]
  },
  {
   "cell_type": "markdown",
   "metadata": {},
   "source": [
    "Set up the model: Define generation configuration and safety settings:"
   ]
  },
  {
   "cell_type": "code",
   "execution_count": 3,
   "metadata": {},
   "outputs": [
    {
     "name": "stdout",
     "output_type": "stream",
     "text": [
      "Quaid-e-Azam Muhammad Ali Jinnah (1876-1948) was a Pakistani politician, lawyer, and the founder of Pakistan. He is considered to be the father of the nation and is widely revered as the Quaid-e-Azam (Great Leader) in Pakistan.\n",
      "\n",
      "**Early Life and Education:**\n",
      "- Muhammad Ali Jinnah was born on December 25, 1876, in Karachi, British India (now Pakistan).\n",
      "- He belonged to a Gujarati Khoja Muslim family.\n",
      "- Jinnah received his early education in Karachi and then studied law in England.\n",
      "- He was called to the bar in 1896 and returned to India to practice law in Bombay (now Mumbai).\n",
      "\n",
      "**Political Career:**\n",
      "- Jinnah began his political career in the Indian National Congress, a political party dedicated to gaining independence from British rule.\n",
      "- He was a prominent advocate for Hindu-Muslim unity and played a significant role in the Lucknow Pact of 1916, which aimed to bridge the gap between the two communities.\n",
      "- However, Jinnah became disillusioned with the Congress's leadership and the growing influence of the Hindu majority.\n",
      "\n",
      "**Partition of India and Creation of Pakistan:**\n",
      "- In the early 1940s, Jinnah played a leading role in the movement for the creation of a separate Muslim state in India.\n",
      "- He argued for the Two-Nation Theory, which asserted that Hindus and Muslims were distinct nations with different cultures, histories, and aspirations.\n",
      "- Jinnah's efforts culminated in the partition of India and the creation of Pakistan in 1947.\n",
      "\n",
      "**First Governor-General of Pakistan:**\n",
      "- Jinnah became the first Governor-General of Pakistan after independence.\n",
      "- He worked tirelessly to establish the new nation and address the challenges it faced, including the influx of Muslim refugees from India.\n",
      "- Jinnah also played a crucial role in drafting Pakistan's first constitution.\n",
      "\n",
      "**Death and Legacy:**\n",
      "- Muhammad Ali Jinnah passed away on September 11, 1948, at the age of 71.\n",
      "- He is considered the father of the nation in Pakistan and is widely revered for his leadership and dedication to the cause of Muslim independence.\n",
      "- Jinnah's vision of a separate Muslim state has had a profound impact on the history of South Asia.\n"
     ]
    }
   ],
   "source": [
    "\"\"\"\n",
    "At the command line, only need to run once to install the package via pip:\n",
    "\n",
    "$ pip install google-generativeai\n",
    "\"\"\"\n",
    "\n",
    "import google.generativeai as genai\n",
    "\n",
    "genai.configure(api_key=\"YOUR_API_KEY\")\n",
    "\n",
    "# Set up the model\n",
    "generation_config = {\n",
    "  \"temperature\": 0.9,\n",
    "  \"top_p\": 1,\n",
    "  \"top_k\": 1,\n",
    "  \"max_output_tokens\": 2048,\n",
    "}\n",
    "\n",
    "safety_settings = [\n",
    "  {\n",
    "    \"category\": \"HARM_CATEGORY_HARASSMENT\",\n",
    "    \"threshold\": \"BLOCK_MEDIUM_AND_ABOVE\"\n",
    "  },\n",
    "  {\n",
    "    \"category\": \"HARM_CATEGORY_HATE_SPEECH\",\n",
    "    \"threshold\": \"BLOCK_MEDIUM_AND_ABOVE\"\n",
    "  },\n",
    "  {\n",
    "    \"category\": \"HARM_CATEGORY_SEXUALLY_EXPLICIT\",\n",
    "    \"threshold\": \"BLOCK_MEDIUM_AND_ABOVE\"\n",
    "  },\n",
    "  {\n",
    "    \"category\": \"HARM_CATEGORY_DANGEROUS_CONTENT\",\n",
    "    \"threshold\": \"BLOCK_MEDIUM_AND_ABOVE\"\n",
    "  }\n",
    "]\n",
    "\n",
    "model = genai.GenerativeModel(model_name=\"gemini-pro\",\n",
    "                              generation_config=generation_config,\n",
    "                              safety_settings=safety_settings)\n",
    "\n",
    "# Generate content: Provide a prompt and retrieve the response:\n",
    "\n",
    "prompt_parts = [\n",
    "  \"who is quaid-e-azam?\",\n",
    "]\n",
    "\n",
    "response = model.generate_content(prompt_parts)\n",
    "print(response.text)"
   ]
  }
 ],
 "metadata": {
  "kernelspec": {
   "display_name": "rafi",
   "language": "python",
   "name": "python3"
  },
  "language_info": {
   "codemirror_mode": {
    "name": "ipython",
    "version": 3
   },
   "file_extension": ".py",
   "mimetype": "text/x-python",
   "name": "python",
   "nbconvert_exporter": "python",
   "pygments_lexer": "ipython3",
   "version": "3.12.0"
  },
  "orig_nbformat": 4
 },
 "nbformat": 4,
 "nbformat_minor": 2
}
